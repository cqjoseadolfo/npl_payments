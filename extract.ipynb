{
 "cells": [
  {
   "cell_type": "code",
   "execution_count": 3,
   "outputs": [],
   "source": [
    "%reset -f"
   ],
   "metadata": {
    "collapsed": false,
    "ExecuteTime": {
     "end_time": "2024-12-10T01:44:25.233429Z",
     "start_time": "2024-12-10T01:44:25.130627700Z"
    }
   },
   "id": "711e5637b6a6341e"
  },
  {
   "cell_type": "code",
   "execution_count": 3,
   "outputs": [],
   "source": [
    "import pandas as pd\n",
    "from datetime import datetime\n",
    "from querys import get_cuenta_npl\n",
    "from load import export_dataframe_to_sql\n",
    "pd.set_option('display.max_columns', None)\n",
    "pd.set_option('display.max_rows', None)"
   ],
   "metadata": {
    "collapsed": false,
    "ExecuteTime": {
     "end_time": "2024-12-10T02:19:13.259475200Z",
     "start_time": "2024-12-10T02:19:11.712757200Z"
    }
   },
   "id": "initial_id"
  },
  {
   "cell_type": "code",
   "execution_count": 4,
   "outputs": [],
   "source": [
    "current_month_year = datetime.now().strftime(\"%m.%Y\")\n",
    "source = \"payments.xlsx\""
   ],
   "metadata": {
    "collapsed": false,
    "ExecuteTime": {
     "end_time": "2024-12-10T02:19:14.828358400Z",
     "start_time": "2024-12-10T02:19:14.808362600Z"
    }
   },
   "id": "4a02998453b67cdc"
  },
  {
   "cell_type": "code",
   "execution_count": 5,
   "outputs": [],
   "source": [
    "df = pd.read_excel(source, sheet_name=current_month_year, header=0, usecols=\"A,D,E,G,H,J\")\n",
    "df = df.dropna(how='all', axis=1).dropna(how='all').reset_index(drop=True)\n",
    "df.columns = ['FECHA', 'PAGO', 'BANCO', 'CONTRATO', 'DNI', 'CARTERA']\n",
    "df = df[df['DNI'] != 0]\n",
    "df['CONTRATO'] = df['CONTRATO'].apply(lambda x: '{:.0f}'.format(x) if pd.notnull(x) else x)\n",
    "df['FECHA'] = pd.to_datetime(df['FECHA'], format='%d/%m/%Y', errors='coerce')\n",
    "df['PAGO'] = df['PAGO'].round(2)"
   ],
   "metadata": {
    "collapsed": false,
    "ExecuteTime": {
     "end_time": "2024-12-10T02:19:17.452358500Z",
     "start_time": "2024-12-10T02:19:16.817826100Z"
    }
   },
   "id": "ce20ede92de54ec7"
  },
  {
   "cell_type": "code",
   "execution_count": 6,
   "outputs": [],
   "source": [
    "# Limpia espacios y ajusta la longitud de la columna 'CONTRATO'\n",
    "df['CONTRATO'] = df['CONTRATO'].str.strip()  # Quitar espacios al inicio y al final\n",
    "df['CONTRATO'] = df['CONTRATO'].apply(lambda x: x.zfill(10))  # Agregar ceros a la izquierda hasta 10 caracteres"
   ],
   "metadata": {
    "collapsed": false,
    "ExecuteTime": {
     "end_time": "2024-12-10T02:19:19.871257800Z",
     "start_time": "2024-12-10T02:19:19.851222Z"
    }
   },
   "id": "1abc19c7b3ab4191"
  },
  {
   "cell_type": "code",
   "execution_count": 7,
   "outputs": [],
   "source": [
    "df['CUENTA'] = df['CONTRATO'].apply(lambda contrato: get_cuenta_npl(contrato))"
   ],
   "metadata": {
    "collapsed": false,
    "ExecuteTime": {
     "end_time": "2024-12-10T02:19:22.352117500Z",
     "start_time": "2024-12-10T02:19:21.882118900Z"
    }
   },
   "id": "447622d43535626b"
  },
  {
   "cell_type": "code",
   "execution_count": 8,
   "outputs": [
    {
     "name": "stdout",
     "output_type": "stream",
     "text": [
      "Datos exportados exitosamente a la tabla 'precarga'.\n"
     ]
    }
   ],
   "source": [
    "export_dataframe_to_sql(df, \"precarga\", schema='omni')"
   ],
   "metadata": {
    "collapsed": false,
    "ExecuteTime": {
     "end_time": "2024-12-10T02:19:24.969988Z",
     "start_time": "2024-12-10T02:19:24.826662100Z"
    }
   },
   "id": "30234e9e7275cd79"
  },
  {
   "cell_type": "code",
   "execution_count": null,
   "outputs": [],
   "source": [],
   "metadata": {
    "collapsed": false
   },
   "id": "59936b5a3fca126e"
  }
 ],
 "metadata": {
  "kernelspec": {
   "display_name": "Python 3",
   "language": "python",
   "name": "python3"
  },
  "language_info": {
   "codemirror_mode": {
    "name": "ipython",
    "version": 2
   },
   "file_extension": ".py",
   "mimetype": "text/x-python",
   "name": "python",
   "nbconvert_exporter": "python",
   "pygments_lexer": "ipython2",
   "version": "2.7.6"
  }
 },
 "nbformat": 4,
 "nbformat_minor": 5
}
