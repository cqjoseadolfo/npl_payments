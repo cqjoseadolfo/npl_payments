{
 "cells": [
  {
   "cell_type": "code",
   "execution_count": 1,
   "outputs": [],
   "source": [
    "%reset -f"
   ],
   "metadata": {
    "collapsed": false,
    "ExecuteTime": {
     "end_time": "2024-12-13T02:49:02.661552300Z",
     "start_time": "2024-12-13T02:49:02.624549100Z"
    }
   },
   "id": "711e5637b6a6341e"
  },
  {
   "cell_type": "code",
   "execution_count": 2,
   "outputs": [],
   "source": [
    "import pandas as pd\n",
    "from datetime import datetime\n",
    "from querys import get_cuenta_npl\n",
    "from load import export_dataframe_to_sql\n",
    "pd.set_option('display.max_columns', None)\n",
    "pd.set_option('display.max_rows', None)"
   ],
   "metadata": {
    "collapsed": false,
    "ExecuteTime": {
     "end_time": "2024-12-13T02:49:03.813979800Z",
     "start_time": "2024-12-13T02:49:03.227982100Z"
    }
   },
   "id": "initial_id"
  },
  {
   "cell_type": "code",
   "execution_count": 3,
   "outputs": [],
   "source": [
    "current_month_year = datetime.now().strftime(\"%m.%Y\")\n",
    "source = \"payments.xlsx\""
   ],
   "metadata": {
    "collapsed": false,
    "ExecuteTime": {
     "end_time": "2024-12-13T02:49:04.396287900Z",
     "start_time": "2024-12-13T02:49:04.388290300Z"
    }
   },
   "id": "4a02998453b67cdc"
  },
  {
   "cell_type": "code",
   "execution_count": 4,
   "outputs": [],
   "source": [
    "df = pd.read_excel(source, sheet_name=current_month_year, header=0, usecols=\"A,D,E,G,H,J\", dtype={'DNI': str})\n",
    "df = df.dropna(how='all', axis=1).dropna(how='all').reset_index(drop=True)\n",
    "df.columns = ['FECHA', 'PAGO', 'BANCO', 'CONTRATO', 'DNI', 'CARTERA']\n",
    "df = df[df['DNI'].str.strip(\"0\") != \"\"]\n",
    "df['CONTRATO'] = df['CONTRATO'].apply(lambda x: '{:.0f}'.format(x) if pd.notnull(x) else x)\n",
    "df['FECHA'] = pd.to_datetime(df['FECHA'], format='%d/%m/%Y', errors='coerce')\n",
    "df['PAGO'] = df['PAGO'].round(2)"
   ],
   "metadata": {
    "collapsed": false,
    "ExecuteTime": {
     "end_time": "2024-12-13T02:49:05.910449300Z",
     "start_time": "2024-12-13T02:49:05.390448Z"
    }
   },
   "id": "ce20ede92de54ec7"
  },
  {
   "cell_type": "code",
   "execution_count": 5,
   "outputs": [],
   "source": [
    "df['CONTRATO'] = df['CONTRATO'].str.strip()\n",
    "df['CONTRATO'] = df['CONTRATO'].apply(lambda x: x.zfill(10))  \n",
    "df['DNI'] = df['DNI'].apply(lambda x: x.zfill(8))"
   ],
   "metadata": {
    "collapsed": false,
    "ExecuteTime": {
     "end_time": "2024-12-13T02:49:06.675025900Z",
     "start_time": "2024-12-13T02:49:06.660029500Z"
    }
   },
   "id": "1abc19c7b3ab4191"
  },
  {
   "cell_type": "code",
   "execution_count": 6,
   "outputs": [],
   "source": [
    "df['CUENTA'] = df['CONTRATO'].apply(lambda contrato: get_cuenta_npl(contrato))"
   ],
   "metadata": {
    "collapsed": false,
    "ExecuteTime": {
     "end_time": "2024-12-12T11:51:23.336482700Z",
     "start_time": "2024-12-12T11:51:22.687404Z"
    }
   },
   "id": "447622d43535626b"
  },
  {
   "cell_type": "code",
   "execution_count": 9,
   "outputs": [
    {
     "name": "stdout",
     "output_type": "stream",
     "text": [
      "Datos exportados exitosamente a la tabla 'NPL_PAYMENTS'.\n"
     ]
    }
   ],
   "source": [
    "export_dataframe_to_sql(df, \"NPL_PAYMENTS\", schema='cargue')"
   ],
   "metadata": {
    "collapsed": false,
    "ExecuteTime": {
     "end_time": "2024-12-13T02:51:00.304157200Z",
     "start_time": "2024-12-13T02:50:56.958276300Z"
    }
   },
   "id": "30234e9e7275cd79"
  },
  {
   "cell_type": "code",
   "execution_count": 16,
   "outputs": [
    {
     "name": "stdout",
     "output_type": "stream",
     "text": [
      "FECHA       datetime64[ns]\n",
      "PAGO               float64\n",
      "BANCO               object\n",
      "CONTRATO            object\n",
      "DNI                 object\n",
      "CARTERA             object\n",
      "CUENTA              object\n",
      "dtype: object\n"
     ]
    }
   ],
   "source": [
    "print(df.dtypes)"
   ],
   "metadata": {
    "collapsed": false,
    "ExecuteTime": {
     "end_time": "2024-12-12T02:48:28.575781900Z",
     "start_time": "2024-12-12T02:48:28.557781Z"
    }
   },
   "id": "59936b5a3fca126e"
  }
 ],
 "metadata": {
  "kernelspec": {
   "display_name": "Python 3",
   "language": "python",
   "name": "python3"
  },
  "language_info": {
   "codemirror_mode": {
    "name": "ipython",
    "version": 2
   },
   "file_extension": ".py",
   "mimetype": "text/x-python",
   "name": "python",
   "nbconvert_exporter": "python",
   "pygments_lexer": "ipython2",
   "version": "2.7.6"
  }
 },
 "nbformat": 4,
 "nbformat_minor": 5
}
