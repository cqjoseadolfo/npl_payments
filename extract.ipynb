{
 "cells": [
  {
   "cell_type": "code",
   "execution_count": 1,
   "outputs": [],
   "source": [
    "%reset -f"
   ],
   "metadata": {
    "collapsed": false,
    "ExecuteTime": {
     "end_time": "2024-12-12T02:19:50.003744200Z",
     "start_time": "2024-12-12T02:19:49.966747700Z"
    }
   },
   "id": "711e5637b6a6341e"
  },
  {
   "cell_type": "code",
   "execution_count": 2,
   "outputs": [],
   "source": [
    "import pandas as pd\n",
    "from datetime import datetime\n",
    "from querys import get_cuenta_npl\n",
    "from load import export_dataframe_to_sql\n",
    "pd.set_option('display.max_columns', None)\n",
    "pd.set_option('display.max_rows', None)"
   ],
   "metadata": {
    "collapsed": false,
    "ExecuteTime": {
     "end_time": "2024-12-12T02:19:51.341748600Z",
     "start_time": "2024-12-12T02:19:50.841747200Z"
    }
   },
   "id": "initial_id"
  },
  {
   "cell_type": "code",
   "execution_count": 3,
   "outputs": [],
   "source": [
    "current_month_year = datetime.now().strftime(\"%m.%Y\")\n",
    "source = \"payments.xlsx\""
   ],
   "metadata": {
    "collapsed": false,
    "ExecuteTime": {
     "end_time": "2024-12-12T02:19:52.009071300Z",
     "start_time": "2024-12-12T02:19:51.992064200Z"
    }
   },
   "id": "4a02998453b67cdc"
  },
  {
   "cell_type": "code",
   "execution_count": 4,
   "outputs": [],
   "source": [
    "df = pd.read_excel(source, sheet_name=current_month_year, header=0, usecols=\"A,D,E,G,H,J\")\n",
    "df = df.dropna(how='all', axis=1).dropna(how='all').reset_index(drop=True)\n",
    "df.columns = ['FECHA', 'PAGO', 'BANCO', 'CONTRATO', 'DNI', 'CARTERA']\n",
    "df = df[df['DNI'] != 0]\n",
    "df['CONTRATO'] = df['CONTRATO'].apply(lambda x: '{:.0f}'.format(x) if pd.notnull(x) else x)\n",
    "df['FECHA'] = pd.to_datetime(df['FECHA'], format='%d/%m/%Y', errors='coerce')\n",
    "df['PAGO'] = df['PAGO'].round(2)"
   ],
   "metadata": {
    "collapsed": false,
    "ExecuteTime": {
     "end_time": "2024-12-12T02:19:53.432081800Z",
     "start_time": "2024-12-12T02:19:52.950083600Z"
    }
   },
   "id": "ce20ede92de54ec7"
  },
  {
   "cell_type": "code",
   "execution_count": 5,
   "outputs": [],
   "source": [
    "# Limpia espacios y ajusta la longitud de la columna 'CONTRATO'\n",
    "df['CONTRATO'] = df['CONTRATO'].str.strip()  # Quitar espacios al inicio y al final\n",
    "df['CONTRATO'] = df['CONTRATO'].apply(lambda x: x.zfill(10))  # Agregar ceros a la izquierda hasta 10 caracteres"
   ],
   "metadata": {
    "collapsed": false,
    "ExecuteTime": {
     "end_time": "2024-12-12T02:19:53.974465600Z",
     "start_time": "2024-12-12T02:19:53.965465100Z"
    }
   },
   "id": "1abc19c7b3ab4191"
  },
  {
   "cell_type": "code",
   "execution_count": 19,
   "outputs": [],
   "source": [
    "df['CUENTA'] = df['CONTRATO'].apply(lambda contrato: get_cuenta_npl(contrato))\n"
   ],
   "metadata": {
    "collapsed": false,
    "ExecuteTime": {
     "end_time": "2024-12-12T02:52:26.334953Z",
     "start_time": "2024-12-12T02:52:10.420702100Z"
    }
   },
   "id": "447622d43535626b"
  },
  {
   "cell_type": "code",
   "execution_count": 20,
   "outputs": [
    {
     "name": "stdout",
     "output_type": "stream",
     "text": [
      "Datos exportados exitosamente a la tabla 'NPL_PAYMENTS'.\n"
     ]
    }
   ],
   "source": [
    "export_dataframe_to_sql(df, \"NPL_PAYMENTS\", schema='cargue')"
   ],
   "metadata": {
    "collapsed": false,
    "ExecuteTime": {
     "end_time": "2024-12-12T02:52:34.252080900Z",
     "start_time": "2024-12-12T02:52:32.381729Z"
    }
   },
   "id": "30234e9e7275cd79"
  },
  {
   "cell_type": "code",
   "execution_count": 16,
   "outputs": [
    {
     "name": "stdout",
     "output_type": "stream",
     "text": [
      "FECHA       datetime64[ns]\n",
      "PAGO               float64\n",
      "BANCO               object\n",
      "CONTRATO            object\n",
      "DNI                 object\n",
      "CARTERA             object\n",
      "CUENTA              object\n",
      "dtype: object\n"
     ]
    }
   ],
   "source": [
    "print(df.dtypes)"
   ],
   "metadata": {
    "collapsed": false,
    "ExecuteTime": {
     "end_time": "2024-12-12T02:48:28.575781900Z",
     "start_time": "2024-12-12T02:48:28.557781Z"
    }
   },
   "id": "59936b5a3fca126e"
  }
 ],
 "metadata": {
  "kernelspec": {
   "display_name": "Python 3",
   "language": "python",
   "name": "python3"
  },
  "language_info": {
   "codemirror_mode": {
    "name": "ipython",
    "version": 2
   },
   "file_extension": ".py",
   "mimetype": "text/x-python",
   "name": "python",
   "nbconvert_exporter": "python",
   "pygments_lexer": "ipython2",
   "version": "2.7.6"
  }
 },
 "nbformat": 4,
 "nbformat_minor": 5
}
